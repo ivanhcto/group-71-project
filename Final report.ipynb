{
 "cells": [
  {
   "cell_type": "markdown",
   "id": "4c9adf2c-0195-4db8-af2b-9c3466faa2b0",
   "metadata": {},
   "source": [
    "# DSCI 100\n",
    "## Group 71 Project Final Report\n",
    "### Name: Wanqing Hu, Anders Mirabee, Ivan To, Queenie Wu\n",
    "### Title: Optimal Raisin Classification"
   ]
  },
  {
   "cell_type": "code",
   "execution_count": null,
   "id": "905a84d1-06d7-44b6-87a8-02723eb9ade0",
   "metadata": {},
   "outputs": [],
   "source": []
  }
 ],
 "metadata": {
  "kernelspec": {
   "display_name": "R",
   "language": "R",
   "name": "ir"
  },
  "language_info": {
   "codemirror_mode": "r",
   "file_extension": ".r",
   "mimetype": "text/x-r-source",
   "name": "R",
   "pygments_lexer": "r",
   "version": "4.1.3"
  }
 },
 "nbformat": 4,
 "nbformat_minor": 5
}
